{
 "cells": [
  {
   "cell_type": "code",
   "execution_count": 57,
   "id": "0583bbea-5cc9-423c-8936-a40f71975bd9",
   "metadata": {},
   "outputs": [],
   "source": [
    "import pandas as pd\n",
    "import seaborn as sns\n",
    "import numpy as np\n",
    "import matplotlib.pyplot as plt\n",
    "import math\n",
    "from sklearn.metrics import silhouette_score\n",
    "from sklearn.cluster import AgglomerativeClustering\n",
    "from scipy.spatial.distance import cdist\n",
    "from sklearn.cluster import KMeans\n",
    "from sklearn.datasets import fetch_openml\n",
    "from sklearn.preprocessing import StandardScaler\n",
    "from sklearn.datasets import load_wine\n",
    "from sklearn.metrics import homogeneity_completeness_v_measure\n",
    "from sklearn.preprocessing import StandardScaler\n",
    "from sklearn.metrics import homogeneity_score, completeness_score"
   ]
  },
  {
   "cell_type": "markdown",
   "id": "85a5abf7-56d4-4e8d-ac73-afe31dd2b28a",
   "metadata": {},
   "source": [
    "### problem1"
   ]
  },
  {
   "cell_type": "code",
   "execution_count": 6,
   "id": "4bbfa925-1e77-40ce-ba7d-e65b6bdaafab",
   "metadata": {},
   "outputs": [],
   "source": [
    "#Load the dataset\n",
    "url='https://archive.ics.uci.edu/ml/machine-learning-databases/auto-mpg/auto-mpg.data'\n",
    "columns_names = ['mpg', 'cylinders', 'displacement', 'horsepower', 'weight','acceleration', 'model year', 'origin', 'car name']\n",
    "#df_auto = pd.read_csv(url, delim_whitespace=True, names=columns_names, na_values='?')\n",
    "df = pd.read_csv(url, sep=r'\\s+', names=columns_names, na_values='?')"
   ]
  },
  {
   "cell_type": "code",
   "execution_count": 7,
   "id": "bd6c84ff-e1bd-4d0b-835b-5cd8f7634378",
   "metadata": {},
   "outputs": [
    {
     "data": {
      "text/html": [
       "<div>\n",
       "<style scoped>\n",
       "    .dataframe tbody tr th:only-of-type {\n",
       "        vertical-align: middle;\n",
       "    }\n",
       "\n",
       "    .dataframe tbody tr th {\n",
       "        vertical-align: top;\n",
       "    }\n",
       "\n",
       "    .dataframe thead th {\n",
       "        text-align: right;\n",
       "    }\n",
       "</style>\n",
       "<table border=\"1\" class=\"dataframe\">\n",
       "  <thead>\n",
       "    <tr style=\"text-align: right;\">\n",
       "      <th></th>\n",
       "      <th>mpg</th>\n",
       "      <th>cylinders</th>\n",
       "      <th>displacement</th>\n",
       "      <th>horsepower</th>\n",
       "      <th>weight</th>\n",
       "      <th>acceleration</th>\n",
       "      <th>model year</th>\n",
       "      <th>origin</th>\n",
       "      <th>car name</th>\n",
       "    </tr>\n",
       "  </thead>\n",
       "  <tbody>\n",
       "    <tr>\n",
       "      <th>0</th>\n",
       "      <td>18.0</td>\n",
       "      <td>8</td>\n",
       "      <td>307.0</td>\n",
       "      <td>130.0</td>\n",
       "      <td>3504.0</td>\n",
       "      <td>12.0</td>\n",
       "      <td>70</td>\n",
       "      <td>1</td>\n",
       "      <td>chevrolet chevelle malibu</td>\n",
       "    </tr>\n",
       "    <tr>\n",
       "      <th>1</th>\n",
       "      <td>15.0</td>\n",
       "      <td>8</td>\n",
       "      <td>350.0</td>\n",
       "      <td>165.0</td>\n",
       "      <td>3693.0</td>\n",
       "      <td>11.5</td>\n",
       "      <td>70</td>\n",
       "      <td>1</td>\n",
       "      <td>buick skylark 320</td>\n",
       "    </tr>\n",
       "    <tr>\n",
       "      <th>2</th>\n",
       "      <td>18.0</td>\n",
       "      <td>8</td>\n",
       "      <td>318.0</td>\n",
       "      <td>150.0</td>\n",
       "      <td>3436.0</td>\n",
       "      <td>11.0</td>\n",
       "      <td>70</td>\n",
       "      <td>1</td>\n",
       "      <td>plymouth satellite</td>\n",
       "    </tr>\n",
       "    <tr>\n",
       "      <th>3</th>\n",
       "      <td>16.0</td>\n",
       "      <td>8</td>\n",
       "      <td>304.0</td>\n",
       "      <td>150.0</td>\n",
       "      <td>3433.0</td>\n",
       "      <td>12.0</td>\n",
       "      <td>70</td>\n",
       "      <td>1</td>\n",
       "      <td>amc rebel sst</td>\n",
       "    </tr>\n",
       "    <tr>\n",
       "      <th>4</th>\n",
       "      <td>17.0</td>\n",
       "      <td>8</td>\n",
       "      <td>302.0</td>\n",
       "      <td>140.0</td>\n",
       "      <td>3449.0</td>\n",
       "      <td>10.5</td>\n",
       "      <td>70</td>\n",
       "      <td>1</td>\n",
       "      <td>ford torino</td>\n",
       "    </tr>\n",
       "  </tbody>\n",
       "</table>\n",
       "</div>"
      ],
      "text/plain": [
       "    mpg  cylinders  displacement  horsepower  weight  acceleration  \\\n",
       "0  18.0          8         307.0       130.0  3504.0          12.0   \n",
       "1  15.0          8         350.0       165.0  3693.0          11.5   \n",
       "2  18.0          8         318.0       150.0  3436.0          11.0   \n",
       "3  16.0          8         304.0       150.0  3433.0          12.0   \n",
       "4  17.0          8         302.0       140.0  3449.0          10.5   \n",
       "\n",
       "   model year  origin                   car name  \n",
       "0          70       1  chevrolet chevelle malibu  \n",
       "1          70       1          buick skylark 320  \n",
       "2          70       1         plymouth satellite  \n",
       "3          70       1              amc rebel sst  \n",
       "4          70       1                ford torino  "
      ]
     },
     "execution_count": 7,
     "metadata": {},
     "output_type": "execute_result"
    }
   ],
   "source": [
    "df.head()"
   ]
  },
  {
   "cell_type": "code",
   "execution_count": 8,
   "id": "a8d7828e-bffe-42e8-8d3f-68c328f97196",
   "metadata": {},
   "outputs": [],
   "source": [
    "# Handle missing values\n",
    "df['horsepower'] = df['horsepower'].fillna(df['horsepower'].mean())"
   ]
  },
  {
   "cell_type": "code",
   "execution_count": 9,
   "id": "0c18e16b-724c-4774-9065-12d1d9f05fff",
   "metadata": {},
   "outputs": [],
   "source": [
    "continuous_features = ['mpg', 'displacement', 'horsepower', 'weight', 'acceleration']\n",
    "X = df[continuous_features]"
   ]
  },
  {
   "cell_type": "code",
   "execution_count": 10,
   "id": "0baa452d-3e5a-4c57-83c4-8f78adeea36b",
   "metadata": {},
   "outputs": [],
   "source": [
    "model = AgglomerativeClustering(\n",
    "    n_clusters=3, \n",
    "    linkage='average', \n",
    "    metric='euclidean' \n",
    ")\n",
    "clusters = model.fit_predict(X)"
   ]
  },
  {
   "cell_type": "code",
   "execution_count": 11,
   "id": "fd8a7abe-c181-458b-a568-81f03e40ecb2",
   "metadata": {},
   "outputs": [
    {
     "name": "stdout",
     "output_type": "stream",
     "text": [
      "Statistics for each cluster:\n",
      "         mpg            displacement               horsepower              \\\n",
      "        mean        var         mean          var        mean         var   \n",
      "0  27.365414  41.976309   131.934211  2828.083391   84.300061  369.143491   \n",
      "1  13.889062   3.359085   358.093750  2138.213294  167.046875  756.521577   \n",
      "2  17.510294   8.829892   278.985294  2882.492318  124.470588  713.088674   \n",
      "\n",
      "        weight                acceleration             \n",
      "          mean            var         mean        var  \n",
      "0  2459.511278  182632.099872    16.298120   5.718298  \n",
      "1  4398.593750   74312.340278    13.025000   3.591429  \n",
      "2  3624.838235   37775.809263    15.105882  10.556980  \n"
     ]
    }
   ],
   "source": [
    "cluster_stats = X.groupby(clusters).agg(['mean', 'var'])\n",
    "print(\"Statistics for each cluster:\")\n",
    "print(cluster_stats)"
   ]
  },
  {
   "cell_type": "code",
   "execution_count": 12,
   "id": "a6c9aef3-1f0a-44f7-9557-573a709b434b",
   "metadata": {},
   "outputs": [
    {
     "name": "stdout",
     "output_type": "stream",
     "text": [
      "\n",
      "Statistics grouped by origin:\n",
      "              mpg            displacement               horsepower  \\\n",
      "             mean        var         mean          var        mean   \n",
      "origin                                                               \n",
      "1       20.083534  40.997026   245.901606  9702.612255  118.814769   \n",
      "2       27.891429  45.211230   109.142857   509.950311   81.241983   \n",
      "3       30.450633  37.088685   102.708861   535.465433   79.835443   \n",
      "\n",
      "                          weight                acceleration            \n",
      "                var         mean            var         mean       var  \n",
      "origin                                                                  \n",
      "1       1569.532304  3361.931727  631695.128385    15.033735  7.568615  \n",
      "2        410.659789  2423.300000  240142.328986    16.787143  9.276209  \n",
      "3        317.523856  2221.227848  102718.485881    16.172152  3.821779  \n"
     ]
    }
   ],
   "source": [
    "origin_stats = X.groupby(df['origin']).agg(['mean', 'var'])\n",
    "print(\"\\nStatistics grouped by origin:\")\n",
    "print(origin_stats)"
   ]
  },
  {
   "cell_type": "code",
   "execution_count": 13,
   "id": "dd3ad96b-ca76-418d-a089-afc7d4c0e672",
   "metadata": {},
   "outputs": [
    {
     "name": "stdout",
     "output_type": "stream",
     "text": [
      "\n",
      "Cross-distribution table between clusters and origins (quantity)：\n",
      "origin    1   2   3  Total\n",
      "row_0                     \n",
      "0       120  67  79    266\n",
      "1        64   0   0     64\n",
      "2        65   3   0     68\n",
      "Total   249  70  79    398\n",
      "\n",
      "Cluster-to-origin distribution ratio (row normalized)：\n",
      "origin     1     2    3\n",
      "row_0                  \n",
      "0       0.45  0.25  0.3\n",
      "1       1.00  0.00  0.0\n",
      "2       0.96  0.04  0.0\n"
     ]
    }
   ],
   "source": [
    "cross_table = pd.crosstab(clusters, df['origin'], margins=True, margins_name=\"Total\")\n",
    "cross_table_percent = pd.crosstab(clusters, df['origin'], normalize='index').round(2)\n",
    "print(\"\\nCross-distribution table between clusters and origins (quantity)：\")\n",
    "print(cross_table)\n",
    "print(\"\\nCluster-to-origin distribution ratio (row normalized)：\")\n",
    "print(cross_table_percent)"
   ]
  },
  {
   "cell_type": "code",
   "execution_count": 14,
   "id": "b2e55d40-5680-4b77-8630-2afd78c38bda",
   "metadata": {},
   "outputs": [],
   "source": [
    "plt.rcParams['font.sans-serif'] = ['SimHei']  \n",
    "plt.rcParams['axes.unicode_minus'] = False    "
   ]
  },
  {
   "cell_type": "code",
   "execution_count": 15,
   "id": "4c05178b-bf86-4a6f-9a57-76ad5c4d783a",
   "metadata": {},
   "outputs": [
    {
     "data": {
      "image/png": "[encoded data removed]",
      "text/plain": [
       "<Figure size 1000x600 with 1 Axes>"
      ]
     },
     "metadata": {},
     "output_type": "display_data"
    }
   ],
   "source": [
    "cross_table_percent.plot.bar(stacked=True, figsize=(10, 6))\n",
    "plt.title('Cluster to origin distribution ratio (row normalized)')\n",
    "plt.ylabel('proportion')\n",
    "plt.xlabel('cluster')\n",
    "plt.xticks(rotation=0)\n",
    "plt.legend(title='Origin', bbox_to_anchor=(1.05, 1), loc='upper left')\n",
    "plt.show()"
   ]
  },
  {
   "cell_type": "code",
   "execution_count": 16,
   "id": "a3e8171c-8bb7-46a0-a32e-a738c353bf0a",
   "metadata": {},
   "outputs": [
    {
     "data": {
      "image/png": "[encoded data removed]",
      "text/plain": [
       "<Figure size 800x600 with 2 Axes>"
      ]
     },
     "metadata": {},
     "output_type": "display_data"
    }
   ],
   "source": [
    "plt.figure(figsize=(8, 6))\n",
    "sns.heatmap(cross_table.iloc[:-1, :-1], annot=True, fmt='d', cmap='Blues', \n",
    "            cbar_kws={'label': 'quantity'}, linewidths=.5)\n",
    "plt.title('Number distribution of clusters and origins')\n",
    "plt.xlabel('Origin')\n",
    "plt.ylabel('cluster')\n",
    "plt.show()"
   ]
  },
  {
   "cell_type": "markdown",
   "id": "cfdf5e47-86e0-48e1-89c1-d505423d0499",
   "metadata": {},
   "source": [
    "### Problem2"
   ]
  },
  {
   "cell_type": "code",
   "execution_count": 17,
   "id": "366b04d1-0d3a-4f5c-b7b0-43a7bfe2ffaf",
   "metadata": {},
   "outputs": [],
   "source": [
    "boston = fetch_openml(name='boston', version=1, as_frame=True)\n",
    "df = pd.DataFrame(boston.data, columns=boston.feature_names)  \n",
    "df['TARGET'] = boston.target\n"
   ]
  },
  {
   "cell_type": "code",
   "execution_count": 42,
   "id": "f948e2c6-1686-4e16-b340-22e9b6e58ba8",
   "metadata": {},
   "outputs": [
    {
     "name": "stdout",
     "output_type": "stream",
     "text": [
      "缺失值数量： 0\n"
     ]
    },
    {
     "data": {
      "text/html": [
       "<div>\n",
       "<style scoped>\n",
       "    .dataframe tbody tr th:only-of-type {\n",
       "        vertical-align: middle;\n",
       "    }\n",
       "\n",
       "    .dataframe tbody tr th {\n",
       "        vertical-align: top;\n",
       "    }\n",
       "\n",
       "    .dataframe thead th {\n",
       "        text-align: right;\n",
       "    }\n",
       "</style>\n",
       "<table border=\"1\" class=\"dataframe\">\n",
       "  <thead>\n",
       "    <tr style=\"text-align: right;\">\n",
       "      <th></th>\n",
       "      <th>CRIM</th>\n",
       "      <th>ZN</th>\n",
       "      <th>INDUS</th>\n",
       "      <th>CHAS</th>\n",
       "      <th>NOX</th>\n",
       "      <th>RM</th>\n",
       "      <th>AGE</th>\n",
       "      <th>DIS</th>\n",
       "      <th>RAD</th>\n",
       "      <th>TAX</th>\n",
       "      <th>PTRATIO</th>\n",
       "      <th>B</th>\n",
       "      <th>LSTAT</th>\n",
       "      <th>TARGET</th>\n",
       "      <th>cluster</th>\n",
       "    </tr>\n",
       "  </thead>\n",
       "  <tbody>\n",
       "    <tr>\n",
       "      <th>0</th>\n",
       "      <td>0.00632</td>\n",
       "      <td>18.0</td>\n",
       "      <td>2.31</td>\n",
       "      <td>0.0</td>\n",
       "      <td>0.538</td>\n",
       "      <td>6.575</td>\n",
       "      <td>65.2</td>\n",
       "      <td>4.0900</td>\n",
       "      <td>1.0</td>\n",
       "      <td>296.0</td>\n",
       "      <td>15.3</td>\n",
       "      <td>396.90</td>\n",
       "      <td>4.98</td>\n",
       "      <td>24.0</td>\n",
       "      <td>0</td>\n",
       "    </tr>\n",
       "    <tr>\n",
       "      <th>1</th>\n",
       "      <td>0.02731</td>\n",
       "      <td>0.0</td>\n",
       "      <td>7.07</td>\n",
       "      <td>0.0</td>\n",
       "      <td>0.469</td>\n",
       "      <td>6.421</td>\n",
       "      <td>78.9</td>\n",
       "      <td>4.9671</td>\n",
       "      <td>2.0</td>\n",
       "      <td>242.0</td>\n",
       "      <td>17.8</td>\n",
       "      <td>396.90</td>\n",
       "      <td>9.14</td>\n",
       "      <td>21.6</td>\n",
       "      <td>0</td>\n",
       "    </tr>\n",
       "    <tr>\n",
       "      <th>2</th>\n",
       "      <td>0.02729</td>\n",
       "      <td>0.0</td>\n",
       "      <td>7.07</td>\n",
       "      <td>0.0</td>\n",
       "      <td>0.469</td>\n",
       "      <td>7.185</td>\n",
       "      <td>61.1</td>\n",
       "      <td>4.9671</td>\n",
       "      <td>2.0</td>\n",
       "      <td>242.0</td>\n",
       "      <td>17.8</td>\n",
       "      <td>392.83</td>\n",
       "      <td>4.03</td>\n",
       "      <td>34.7</td>\n",
       "      <td>0</td>\n",
       "    </tr>\n",
       "    <tr>\n",
       "      <th>3</th>\n",
       "      <td>0.03237</td>\n",
       "      <td>0.0</td>\n",
       "      <td>2.18</td>\n",
       "      <td>0.0</td>\n",
       "      <td>0.458</td>\n",
       "      <td>6.998</td>\n",
       "      <td>45.8</td>\n",
       "      <td>6.0622</td>\n",
       "      <td>3.0</td>\n",
       "      <td>222.0</td>\n",
       "      <td>18.7</td>\n",
       "      <td>394.63</td>\n",
       "      <td>2.94</td>\n",
       "      <td>33.4</td>\n",
       "      <td>0</td>\n",
       "    </tr>\n",
       "    <tr>\n",
       "      <th>4</th>\n",
       "      <td>0.06905</td>\n",
       "      <td>0.0</td>\n",
       "      <td>2.18</td>\n",
       "      <td>0.0</td>\n",
       "      <td>0.458</td>\n",
       "      <td>7.147</td>\n",
       "      <td>54.2</td>\n",
       "      <td>6.0622</td>\n",
       "      <td>3.0</td>\n",
       "      <td>222.0</td>\n",
       "      <td>18.7</td>\n",
       "      <td>396.90</td>\n",
       "      <td>5.33</td>\n",
       "      <td>36.2</td>\n",
       "      <td>0</td>\n",
       "    </tr>\n",
       "  </tbody>\n",
       "</table>\n",
       "</div>"
      ],
      "text/plain": [
       "      CRIM    ZN  INDUS  CHAS    NOX     RM   AGE     DIS  RAD    TAX  \\\n",
       "0  0.00632  18.0   2.31   0.0  0.538  6.575  65.2  4.0900  1.0  296.0   \n",
       "1  0.02731   0.0   7.07   0.0  0.469  6.421  78.9  4.9671  2.0  242.0   \n",
       "2  0.02729   0.0   7.07   0.0  0.469  7.185  61.1  4.9671  2.0  242.0   \n",
       "3  0.03237   0.0   2.18   0.0  0.458  6.998  45.8  6.0622  3.0  222.0   \n",
       "4  0.06905   0.0   2.18   0.0  0.458  7.147  54.2  6.0622  3.0  222.0   \n",
       "\n",
       "   PTRATIO       B  LSTAT  TARGET  cluster  \n",
       "0     15.3  396.90   4.98    24.0        0  \n",
       "1     17.8  396.90   9.14    21.6        0  \n",
       "2     17.8  392.83   4.03    34.7        0  \n",
       "3     18.7  394.63   2.94    33.4        0  \n",
       "4     18.7  396.90   5.33    36.2        0  "
      ]
     },
     "execution_count": 42,
     "metadata": {},
     "output_type": "execute_result"
    }
   ],
   "source": [
    "print(\"缺失值数量：\", df.isnull().sum().sum())"
   ]
  },
  {
   "cell_type": "code",
   "execution_count": 19,
   "id": "eec15de3-a150-480b-9b3e-47a24e93196e",
   "metadata": {},
   "outputs": [
    {
     "name": "stdout",
     "output_type": "stream",
     "text": [
      "Feature data type checking:\n",
      "CRIM        float64\n",
      "ZN          float64\n",
      "INDUS       float64\n",
      "CHAS       category\n",
      "NOX         float64\n",
      "RM          float64\n",
      "AGE         float64\n",
      "DIS         float64\n",
      "RAD        category\n",
      "TAX         float64\n",
      "PTRATIO     float64\n",
      "B           float64\n",
      "LSTAT       float64\n",
      "dtype: object\n"
     ]
    }
   ],
   "source": [
    "print(\"Feature data type checking:\")\n",
    "print(df[boston.feature_names].dtypes)\n",
    "\n",
    "features = boston.feature_names\n",
    "X = df[features]\n",
    "scaler = StandardScaler()\n",
    "X_scaled = scaler.fit_transform(X)\n"
   ]
  },
  {
   "cell_type": "code",
   "execution_count": 32,
   "id": "9b845367-1893-4ed2-8fcd-ef24c06e03dc",
   "metadata": {},
   "outputs": [
    {
     "name": "stdout",
     "output_type": "stream",
     "text": [
      "k=2: Silhouette Score = 0.3601\n",
      "k=3: Silhouette Score = 0.2448\n",
      "k=4: Silhouette Score = 0.2275\n",
      "k=5: Silhouette Score = 0.2389\n",
      "k=6: Silhouette Score = 0.2291\n"
     ]
    }
   ],
   "source": [
    "best_k = 2\n",
    "best_score = -1\n",
    "results = []\n",
    "for k in range(2, 7):\n",
    "    kmeans = KMeans(n_clusters=k, random_state=42)\n",
    "    labels = kmeans.fit_predict(X_scaled)\n",
    "    score = silhouette_score(X_scaled, labels)\n",
    "    if score > best_score:\n",
    "        best_k, best_score = k, score\n",
    "    results.append((k, score))\n",
    "    print(f\"k={k}: Silhouette Score = {score:.4f}\")\n",
    "    "
   ]
  },
  {
   "cell_type": "code",
   "execution_count": 33,
   "id": "deb7f06a-e9e4-4011-9c57-05d33e6bb212",
   "metadata": {},
   "outputs": [
    {
     "data": {
      "image/png": "[encoded data removed]",
      "text/plain": [
       "<Figure size 800x500 with 1 Axes>"
      ]
     },
     "metadata": {},
     "output_type": "display_data"
    },
    {
     "name": "stdout",
     "output_type": "stream",
     "text": [
      "Best k: 2 with Silhouette Score: 0.3601\n"
     ]
    }
   ],
   "source": [
    "k_values, scores = zip(*results)\n",
    "plt.figure(figsize=(8, 5))\n",
    "plt.plot(k_values, scores, marker='o')\n",
    "plt.title('Silhouette Score vs Number of Clusters')\n",
    "plt.xlabel('Number of Clusters (k)')\n",
    "plt.ylabel('Silhouette Score')\n",
    "plt.grid(True)\n",
    "plt.xticks(k_values)\n",
    "plt.show()\n",
    "print(f\"Best k: {best_k} with Silhouette Score: {best_score:.4f}\")"
   ]
  },
  {
   "cell_type": "code",
   "execution_count": 34,
   "id": "d7130f8e-24f8-4b99-a94a-94b0ae1736ab",
   "metadata": {},
   "outputs": [],
   "source": [
    "kmeans = KMeans(n_clusters=best_k, random_state=42).fit(X_scaled)\n",
    "df['cluster'] = kmeans.labels_"
   ]
  },
  {
   "cell_type": "code",
   "execution_count": 35,
   "id": "f033d88b-b80b-475e-978b-7f4c671a9770",
   "metadata": {},
   "outputs": [],
   "source": [
    "df[features] = df[features].astype(float)\n",
    "cluster_means = df.groupby('cluster')[features].mean()"
   ]
  },
  {
   "cell_type": "code",
   "execution_count": 36,
   "id": "4884d69a-fc18-44e7-8004-b668de5482b4",
   "metadata": {},
   "outputs": [],
   "source": [
    "centroids_scaled = kmeans.cluster_centers_\n",
    "centroids_raw = scaler.inverse_transform(centroids_scaled)\n",
    "centroids_df = pd.DataFrame(centroids_raw, columns=features)"
   ]
  },
  {
   "cell_type": "code",
   "execution_count": 40,
   "id": "b90aae1f-d9c4-4f4a-8b3e-6d8c12595729",
   "metadata": {},
   "outputs": [
    {
     "name": "stdout",
     "output_type": "stream",
     "text": [
      "\n",
      "best k=2\n",
      "\n",
      "Cluster mean vs centroid coordinates (should be exactly the same):\n",
      "\n",
      "cluster 0:\n"
     ]
    },
    {
     "data": {
      "text/html": [
       "<div>\n",
       "<style scoped>\n",
       "    .dataframe tbody tr th:only-of-type {\n",
       "        vertical-align: middle;\n",
       "    }\n",
       "\n",
       "    .dataframe tbody tr th {\n",
       "        vertical-align: top;\n",
       "    }\n",
       "\n",
       "    .dataframe thead th {\n",
       "        text-align: right;\n",
       "    }\n",
       "</style>\n",
       "<table border=\"1\" class=\"dataframe\">\n",
       "  <thead>\n",
       "    <tr style=\"text-align: right;\">\n",
       "      <th></th>\n",
       "      <th>Raw mean</th>\n",
       "      <th>Centroid coordinates</th>\n",
       "    </tr>\n",
       "  </thead>\n",
       "  <tbody>\n",
       "    <tr>\n",
       "      <th>CRIM</th>\n",
       "      <td>0.261172</td>\n",
       "      <td>0.261172</td>\n",
       "    </tr>\n",
       "    <tr>\n",
       "      <th>ZN</th>\n",
       "      <td>17.477204</td>\n",
       "      <td>17.477204</td>\n",
       "    </tr>\n",
       "    <tr>\n",
       "      <th>INDUS</th>\n",
       "      <td>6.885046</td>\n",
       "      <td>6.885046</td>\n",
       "    </tr>\n",
       "    <tr>\n",
       "      <th>CHAS</th>\n",
       "      <td>0.069909</td>\n",
       "      <td>0.069909</td>\n",
       "    </tr>\n",
       "    <tr>\n",
       "      <th>NOX</th>\n",
       "      <td>0.487011</td>\n",
       "      <td>0.487011</td>\n",
       "    </tr>\n",
       "    <tr>\n",
       "      <th>RM</th>\n",
       "      <td>6.455422</td>\n",
       "      <td>6.455422</td>\n",
       "    </tr>\n",
       "    <tr>\n",
       "      <th>AGE</th>\n",
       "      <td>56.339210</td>\n",
       "      <td>56.339210</td>\n",
       "    </tr>\n",
       "    <tr>\n",
       "      <th>DIS</th>\n",
       "      <td>4.756868</td>\n",
       "      <td>4.756868</td>\n",
       "    </tr>\n",
       "    <tr>\n",
       "      <th>RAD</th>\n",
       "      <td>4.471125</td>\n",
       "      <td>4.471125</td>\n",
       "    </tr>\n",
       "    <tr>\n",
       "      <th>TAX</th>\n",
       "      <td>301.917933</td>\n",
       "      <td>301.917933</td>\n",
       "    </tr>\n",
       "    <tr>\n",
       "      <th>PTRATIO</th>\n",
       "      <td>17.837386</td>\n",
       "      <td>17.837386</td>\n",
       "    </tr>\n",
       "    <tr>\n",
       "      <th>B</th>\n",
       "      <td>386.447872</td>\n",
       "      <td>386.447872</td>\n",
       "    </tr>\n",
       "    <tr>\n",
       "      <th>LSTAT</th>\n",
       "      <td>9.468298</td>\n",
       "      <td>9.468298</td>\n",
       "    </tr>\n",
       "  </tbody>\n",
       "</table>\n",
       "</div>"
      ],
      "text/plain": [
       "           Raw mean  Centroid coordinates\n",
       "CRIM       0.261172              0.261172\n",
       "ZN        17.477204             17.477204\n",
       "INDUS      6.885046              6.885046\n",
       "CHAS       0.069909              0.069909\n",
       "NOX        0.487011              0.487011\n",
       "RM         6.455422              6.455422\n",
       "AGE       56.339210             56.339210\n",
       "DIS        4.756868              4.756868\n",
       "RAD        4.471125              4.471125\n",
       "TAX      301.917933            301.917933\n",
       "PTRATIO   17.837386             17.837386\n",
       "B        386.447872            386.447872\n",
       "LSTAT      9.468298              9.468298"
      ]
     },
     "metadata": {},
     "output_type": "display_data"
    },
    {
     "name": "stdout",
     "output_type": "stream",
     "text": [
      "\n",
      "cluster 1:\n"
     ]
    },
    {
     "data": {
      "text/html": [
       "<div>\n",
       "<style scoped>\n",
       "    .dataframe tbody tr th:only-of-type {\n",
       "        vertical-align: middle;\n",
       "    }\n",
       "\n",
       "    .dataframe tbody tr th {\n",
       "        vertical-align: top;\n",
       "    }\n",
       "\n",
       "    .dataframe thead th {\n",
       "        text-align: right;\n",
       "    }\n",
       "</style>\n",
       "<table border=\"1\" class=\"dataframe\">\n",
       "  <thead>\n",
       "    <tr style=\"text-align: right;\">\n",
       "      <th></th>\n",
       "      <th>Raw mean</th>\n",
       "      <th>Centroid coordinates</th>\n",
       "    </tr>\n",
       "  </thead>\n",
       "  <tbody>\n",
       "    <tr>\n",
       "      <th>CRIM</th>\n",
       "      <td>9.844730</td>\n",
       "      <td>9.844730e+00</td>\n",
       "    </tr>\n",
       "    <tr>\n",
       "      <th>ZN</th>\n",
       "      <td>0.000000</td>\n",
       "      <td>1.243450e-14</td>\n",
       "    </tr>\n",
       "    <tr>\n",
       "      <th>INDUS</th>\n",
       "      <td>19.039718</td>\n",
       "      <td>1.903972e+01</td>\n",
       "    </tr>\n",
       "    <tr>\n",
       "      <th>CHAS</th>\n",
       "      <td>0.067797</td>\n",
       "      <td>6.779661e-02</td>\n",
       "    </tr>\n",
       "    <tr>\n",
       "      <th>NOX</th>\n",
       "      <td>0.680503</td>\n",
       "      <td>6.805028e-01</td>\n",
       "    </tr>\n",
       "    <tr>\n",
       "      <th>RM</th>\n",
       "      <td>5.967181</td>\n",
       "      <td>5.967181e+00</td>\n",
       "    </tr>\n",
       "    <tr>\n",
       "      <th>AGE</th>\n",
       "      <td>91.318079</td>\n",
       "      <td>9.131808e+01</td>\n",
       "    </tr>\n",
       "    <tr>\n",
       "      <th>DIS</th>\n",
       "      <td>2.007242</td>\n",
       "      <td>2.007242e+00</td>\n",
       "    </tr>\n",
       "    <tr>\n",
       "      <th>RAD</th>\n",
       "      <td>18.988701</td>\n",
       "      <td>1.898870e+01</td>\n",
       "    </tr>\n",
       "    <tr>\n",
       "      <th>TAX</th>\n",
       "      <td>605.858757</td>\n",
       "      <td>6.058588e+02</td>\n",
       "    </tr>\n",
       "    <tr>\n",
       "      <th>PTRATIO</th>\n",
       "      <td>19.604520</td>\n",
       "      <td>1.960452e+01</td>\n",
       "    </tr>\n",
       "    <tr>\n",
       "      <th>B</th>\n",
       "      <td>301.331695</td>\n",
       "      <td>3.013317e+02</td>\n",
       "    </tr>\n",
       "    <tr>\n",
       "      <th>LSTAT</th>\n",
       "      <td>18.572768</td>\n",
       "      <td>1.857277e+01</td>\n",
       "    </tr>\n",
       "  </tbody>\n",
       "</table>\n",
       "</div>"
      ],
      "text/plain": [
       "           Raw mean  Centroid coordinates\n",
       "CRIM       9.844730          9.844730e+00\n",
       "ZN         0.000000          1.243450e-14\n",
       "INDUS     19.039718          1.903972e+01\n",
       "CHAS       0.067797          6.779661e-02\n",
       "NOX        0.680503          6.805028e-01\n",
       "RM         5.967181          5.967181e+00\n",
       "AGE       91.318079          9.131808e+01\n",
       "DIS        2.007242          2.007242e+00\n",
       "RAD       18.988701          1.898870e+01\n",
       "TAX      605.858757          6.058588e+02\n",
       "PTRATIO   19.604520          1.960452e+01\n",
       "B        301.331695          3.013317e+02\n",
       "LSTAT     18.572768          1.857277e+01"
      ]
     },
     "metadata": {},
     "output_type": "display_data"
    }
   ],
   "source": [
    "print(f\"\\nbest k={best_k}\")\n",
    "print(\"\\nCluster mean vs centroid coordinates (should be exactly the same):\")\n",
    "for i in range(best_k):\n",
    "    print(f\"\\ncluster {i}:\")\n",
    "    display(pd.concat([\n",
    "        cluster_means.loc[i].rename('Raw mean'),\n",
    "        centroids_df.iloc[i].rename('Centroid coordinates')\n",
    "    ], axis=1))"
   ]
  },
  {
   "cell_type": "markdown",
   "id": "efbcec7d-cbf9-4d08-8ed7-f5a3ca26b333",
   "metadata": {},
   "source": [
    "### Problem3"
   ]
  },
  {
   "cell_type": "code",
   "execution_count": 58,
   "id": "ee64bfdb-25f6-44ec-8e15-c9ebf0c43dc8",
   "metadata": {},
   "outputs": [],
   "source": [
    "wine = load_wine()\n",
    "df = pd.DataFrame(data=wine.data, columns=wine.feature_names)\n",
    "df['target'] = wine.target"
   ]
  },
  {
   "cell_type": "code",
   "execution_count": 59,
   "id": "74bd7e61-1130-4e6d-a22a-501290f4d33a",
   "metadata": {},
   "outputs": [
    {
     "data": {
      "text/html": [
       "<div>\n",
       "<style scoped>\n",
       "    .dataframe tbody tr th:only-of-type {\n",
       "        vertical-align: middle;\n",
       "    }\n",
       "\n",
       "    .dataframe tbody tr th {\n",
       "        vertical-align: top;\n",
       "    }\n",
       "\n",
       "    .dataframe thead th {\n",
       "        text-align: right;\n",
       "    }\n",
       "</style>\n",
       "<table border=\"1\" class=\"dataframe\">\n",
       "  <thead>\n",
       "    <tr style=\"text-align: right;\">\n",
       "      <th></th>\n",
       "      <th>alcohol</th>\n",
       "      <th>malic_acid</th>\n",
       "      <th>ash</th>\n",
       "      <th>alcalinity_of_ash</th>\n",
       "      <th>magnesium</th>\n",
       "      <th>total_phenols</th>\n",
       "      <th>flavanoids</th>\n",
       "      <th>nonflavanoid_phenols</th>\n",
       "      <th>proanthocyanins</th>\n",
       "      <th>color_intensity</th>\n",
       "      <th>hue</th>\n",
       "      <th>od280/od315_of_diluted_wines</th>\n",
       "      <th>proline</th>\n",
       "      <th>target</th>\n",
       "    </tr>\n",
       "  </thead>\n",
       "  <tbody>\n",
       "    <tr>\n",
       "      <th>0</th>\n",
       "      <td>14.23</td>\n",
       "      <td>1.71</td>\n",
       "      <td>2.43</td>\n",
       "      <td>15.6</td>\n",
       "      <td>127.0</td>\n",
       "      <td>2.80</td>\n",
       "      <td>3.06</td>\n",
       "      <td>0.28</td>\n",
       "      <td>2.29</td>\n",
       "      <td>5.64</td>\n",
       "      <td>1.04</td>\n",
       "      <td>3.92</td>\n",
       "      <td>1065.0</td>\n",
       "      <td>0</td>\n",
       "    </tr>\n",
       "    <tr>\n",
       "      <th>1</th>\n",
       "      <td>13.20</td>\n",
       "      <td>1.78</td>\n",
       "      <td>2.14</td>\n",
       "      <td>11.2</td>\n",
       "      <td>100.0</td>\n",
       "      <td>2.65</td>\n",
       "      <td>2.76</td>\n",
       "      <td>0.26</td>\n",
       "      <td>1.28</td>\n",
       "      <td>4.38</td>\n",
       "      <td>1.05</td>\n",
       "      <td>3.40</td>\n",
       "      <td>1050.0</td>\n",
       "      <td>0</td>\n",
       "    </tr>\n",
       "    <tr>\n",
       "      <th>2</th>\n",
       "      <td>13.16</td>\n",
       "      <td>2.36</td>\n",
       "      <td>2.67</td>\n",
       "      <td>18.6</td>\n",
       "      <td>101.0</td>\n",
       "      <td>2.80</td>\n",
       "      <td>3.24</td>\n",
       "      <td>0.30</td>\n",
       "      <td>2.81</td>\n",
       "      <td>5.68</td>\n",
       "      <td>1.03</td>\n",
       "      <td>3.17</td>\n",
       "      <td>1185.0</td>\n",
       "      <td>0</td>\n",
       "    </tr>\n",
       "    <tr>\n",
       "      <th>3</th>\n",
       "      <td>14.37</td>\n",
       "      <td>1.95</td>\n",
       "      <td>2.50</td>\n",
       "      <td>16.8</td>\n",
       "      <td>113.0</td>\n",
       "      <td>3.85</td>\n",
       "      <td>3.49</td>\n",
       "      <td>0.24</td>\n",
       "      <td>2.18</td>\n",
       "      <td>7.80</td>\n",
       "      <td>0.86</td>\n",
       "      <td>3.45</td>\n",
       "      <td>1480.0</td>\n",
       "      <td>0</td>\n",
       "    </tr>\n",
       "    <tr>\n",
       "      <th>4</th>\n",
       "      <td>13.24</td>\n",
       "      <td>2.59</td>\n",
       "      <td>2.87</td>\n",
       "      <td>21.0</td>\n",
       "      <td>118.0</td>\n",
       "      <td>2.80</td>\n",
       "      <td>2.69</td>\n",
       "      <td>0.39</td>\n",
       "      <td>1.82</td>\n",
       "      <td>4.32</td>\n",
       "      <td>1.04</td>\n",
       "      <td>2.93</td>\n",
       "      <td>735.0</td>\n",
       "      <td>0</td>\n",
       "    </tr>\n",
       "  </tbody>\n",
       "</table>\n",
       "</div>"
      ],
      "text/plain": [
       "   alcohol  malic_acid   ash  alcalinity_of_ash  magnesium  total_phenols  \\\n",
       "0    14.23        1.71  2.43               15.6      127.0           2.80   \n",
       "1    13.20        1.78  2.14               11.2      100.0           2.65   \n",
       "2    13.16        2.36  2.67               18.6      101.0           2.80   \n",
       "3    14.37        1.95  2.50               16.8      113.0           3.85   \n",
       "4    13.24        2.59  2.87               21.0      118.0           2.80   \n",
       "\n",
       "   flavanoids  nonflavanoid_phenols  proanthocyanins  color_intensity   hue  \\\n",
       "0        3.06                  0.28             2.29             5.64  1.04   \n",
       "1        2.76                  0.26             1.28             4.38  1.05   \n",
       "2        3.24                  0.30             2.81             5.68  1.03   \n",
       "3        3.49                  0.24             2.18             7.80  0.86   \n",
       "4        2.69                  0.39             1.82             4.32  1.04   \n",
       "\n",
       "   od280/od315_of_diluted_wines  proline  target  \n",
       "0                          3.92   1065.0       0  \n",
       "1                          3.40   1050.0       0  \n",
       "2                          3.17   1185.0       0  \n",
       "3                          3.45   1480.0       0  \n",
       "4                          2.93    735.0       0  "
      ]
     },
     "execution_count": 59,
     "metadata": {},
     "output_type": "execute_result"
    }
   ],
   "source": [
    "df.head()"
   ]
  },
  {
   "cell_type": "code",
   "execution_count": 65,
   "id": "c3481722-c3c3-4453-933f-def1f05eabe6",
   "metadata": {},
   "outputs": [],
   "source": [
    "scaler = StandardScaler()\n",
    "X_scaled = scaler.fit_transform(df.drop('target', axis=1))"
   ]
  },
  {
   "cell_type": "code",
   "execution_count": 66,
   "id": "f37e3639-078f-4ff0-a952-74c806eeeb8e",
   "metadata": {},
   "outputs": [],
   "source": [
    "kmeans = KMeans(n_clusters=3, random_state=42)\n",
    "labels = kmeans.fit_predict(X_scaled)"
   ]
  },
  {
   "cell_type": "code",
   "execution_count": 67,
   "id": "098e3ae7-6004-4b99-bca6-6c7462bf3758",
   "metadata": {},
   "outputs": [],
   "source": [
    "df['cluster'] = labels\n",
    "h_score = homogeneity_score(wine.target, labels)\n",
    "c_score = completeness_score(wine.target, labels)"
   ]
  },
  {
   "cell_type": "code",
   "execution_count": 68,
   "id": "202e2431-a80e-49f5-9b3e-c8acc858b12c",
   "metadata": {},
   "outputs": [
    {
     "name": "stdout",
     "output_type": "stream",
     "text": [
      "Homogeneity Score: 0.8788\n",
      "Completeness Score: 0.8730\n"
     ]
    }
   ],
   "source": [
    "print(f\"Homogeneity Score: {h_score:.4f}\")\n",
    "print(f\"Completeness Score: {c_score:.4f}\")"
   ]
  },
  {
   "cell_type": "code",
   "execution_count": 56,
   "id": "9ce39570-a709-4d20-9db8-024aadcaac7c",
   "metadata": {},
   "outputs": [],
   "source": [
    "# 6. 指标解释\n",
    "#print(\"指标解释：\")\n",
    "#print(\"- 同质性 (Homogeneity): 每个簇中只包含单一真实类别的程度。值越高，簇纯度越高。\")\n",
    "#print(\"- 完整性 (Completeness): 同一真实类别的样本被分配到同一簇的程度。值越高，类内聚合度越好。\")"
   ]
  }
 ],
 "metadata": {
  "kernelspec": {
   "display_name": "Python 3 (ipykernel)",
   "language": "python",
   "name": "python3"
  },
  "language_info": {
   "codemirror_mode": {
    "name": "ipython",
    "version": 3
   },
   "file_extension": ".py",
   "mimetype": "text/x-python",
   "name": "python",
   "nbconvert_exporter": "python",
   "pygments_lexer": "ipython3",
   "version": "3.13.3"
  }
 },
 "nbformat": 4,
 "nbformat_minor": 5
}
